{
  "nbformat": 4,
  "nbformat_minor": 0,
  "metadata": {
    "colab": {
      "provenance": [],
      "include_colab_link": true
    },
    "kernelspec": {
      "name": "ir",
      "display_name": "R"
    },
    "language_info": {
      "name": "R"
    }
  },
  "cells": [
    {
      "cell_type": "markdown",
      "metadata": {
        "id": "view-in-github",
        "colab_type": "text"
      },
      "source": [
        "<a href=\"https://colab.research.google.com/github/secun/MABA-CursoR-2023-Machine-Learning-/blob/main/10_Bikesharing.ipynb\" target=\"_parent\"><img src=\"https://colab.research.google.com/assets/colab-badge.svg\" alt=\"Open In Colab\"/></a>"
      ]
    },
    {
      "cell_type": "markdown",
      "source": [
        "# Ejemplo simple de aplicación de *Machine Learning*\n",
        "\n",
        "This is a famous dataset from the UC Irvine Machine Learning Repository (https://archive.ics.uci.edu).\n",
        "It is included as the day dataset in the \"regtools\" library by permission of the data curator. A detailed description of the data is available on the UCI site, https://archive.ics.uci.edu/ml/datasets/bike+sharing+dataset."
      ],
      "metadata": {
        "id": "2SHEMa0HbSmC"
      }
    },
    {
      "cell_type": "code",
      "execution_count": null,
      "metadata": {
        "id": "I-ZrnzqRTsXa"
      },
      "outputs": [],
      "source": [
        "# Cargar datos (subir primero el fichero al entorno de Google Colab)\n",
        "\n",
        "day1 <- read.csv(\"BikesharingData.csv\")\n",
        "head(day1)"
      ]
    },
    {
      "cell_type": "markdown",
      "source": [
        "For this data set. how can we predict the number of riders (\"tot\" column)?\n",
        "\n",
        "Let's use the temperature as the predictor for number of riders\n",
        "\n",
        "# Number of neighbors in k-NN\n",
        "\n",
        "**Predict ridership for a temperature of 28C**\n",
        "\n",
        "Person on the street viewpoint: collect days where T close to 28, and calculate mean (its called k-NN model)"
      ],
      "metadata": {
        "id": "IaEUyYKufydG"
      }
    },
    {
      "cell_type": "code",
      "source": [
        "day1$dists <- abs(day1$temp - 28) # distancias o diferencias entre la temperatura de los días en el registro de datos y la temperatura de 28ºC\n",
        "head(day1)"
      ],
      "metadata": {
        "id": "o2zliKYugCXp"
      },
      "execution_count": null,
      "outputs": []
    },
    {
      "cell_type": "markdown",
      "source": [
        "Select the 10 days with temperature closest to 28"
      ],
      "metadata": {
        "id": "AzV0wqSLgxsg"
      }
    },
    {
      "cell_type": "code",
      "source": [
        "do10 <- order(day1$dists)[1:10]\n",
        "do10"
      ],
      "metadata": {
        "id": "xwNYpQ4wg3ll"
      },
      "execution_count": null,
      "outputs": []
    },
    {
      "cell_type": "code",
      "source": [
        "round(day1$dists[do10], 2) #distancias en temperatura\n",
        "day1$tot[do10] #numero de riders"
      ],
      "metadata": {
        "id": "lUj3YLVihF3q"
      },
      "execution_count": null,
      "outputs": []
    },
    {
      "cell_type": "markdown",
      "source": [
        "Take the average of the number of riders of the 10 days as the result of the estimation of the number of riders for T=28"
      ],
      "metadata": {
        "id": "sBSyUDzuhX7f"
      }
    },
    {
      "cell_type": "code",
      "source": [
        "mean(day1$tot[do10]) #media de numero de riders"
      ],
      "metadata": {
        "id": "XLHXG0yIhlEB"
      },
      "execution_count": null,
      "outputs": []
    },
    {
      "cell_type": "markdown",
      "source": [
        "Bias vs variance: Why 10 neighbors? Is it enough? Is it to small?\n",
        "\n",
        "Small number may bring very much sampling variability (variance issue)\n",
        "\n",
        "Large number will introduce portions of data that may induce a systemic tendency to under or overpredict. (bias issue)\n",
        "\n",
        "Trade-off between variance and bias --> This is related to the volume of data too and the number of parameters\n",
        "\n",
        "Importance of choosing the right value of k (parameters). Overfitting (too small k) and underfitting (too large k).\n",
        "\n",
        "What's the right number of parameters then?\n",
        "\n",
        "From maths, k is aprox sqrt(n)"
      ],
      "metadata": {
        "id": "_q7ZBdTsiLGX"
      }
    },
    {
      "cell_type": "code",
      "source": [
        "sqrt(nrow(day1)) # The number of nearest neighbors should be less than the square root of the number of data points."
      ],
      "metadata": {
        "id": "ZqGGoVGOih_v"
      },
      "execution_count": null,
      "outputs": []
    },
    {
      "cell_type": "markdown",
      "source": [
        "# Number of predictors/features\n",
        "\n",
        "A dataset is not large or small; its size n must be viewed relative to number of features p.\n",
        "\n",
        "Overfitting can happen too when we use too may features.\n",
        "Not using one specific feature could lead to biased upwards or downwards (bias can be seen as a lack of detail then)\n",
        "\n",
        "Having one feature with small sample size can lead to variance due to that specific variable/feature.\n",
        "\n",
        "An embedding is the process where one feature is replaced by a better feature from outside (ZIP code by average temperature)"
      ],
      "metadata": {
        "id": "0LPlHDQpilGW"
      }
    },
    {
      "cell_type": "markdown",
      "source": [
        "# The regression function\n",
        "In example above we predicted the value of riders for a temperature of 28 C.\n",
        "Let's do the same for 20C, with 10 neighbors."
      ],
      "metadata": {
        "id": "CqlaCf-qjGBL"
      }
    },
    {
      "cell_type": "code",
      "source": [
        "day1$dists <- abs(day1$temp - 20) # distances of the temps to 20\n",
        "do10 <- order(day1$dists)[1:10] # which are the 10 closest?\n",
        "do10"
      ],
      "metadata": {
        "id": "OC3CFFwQjL6F"
      },
      "execution_count": null,
      "outputs": []
    },
    {
      "cell_type": "code",
      "source": [
        "mean(day1$tot[do10]) #media de numero de riders"
      ],
      "metadata": {
        "id": "OM5v_w7HjYFY"
      },
      "execution_count": null,
      "outputs": []
    },
    {
      "cell_type": "markdown",
      "source": [
        "Podríamos continuar este proceso, y obtener una función r(T):\n",
        "\n",
        "r(T=20) = 5168.8\n",
        "\n",
        "r(T=28) = 5400.4"
      ],
      "metadata": {
        "id": "BQwrOSP6jWhe"
      }
    },
    {
      "cell_type": "markdown",
      "source": [
        "We predict the ridership on a day of temperature t to be r(t), the mean ridership of all days of temperature t.\n",
        "\n",
        "This function, r(t), is called the regression function of ridership on temperature.\n",
        "\n",
        "La función tiene tantos argumentos como features.\n",
        "\n",
        "La función se entrena sobre el conjuntos de datos training set  \n",
        "\n",
        "La función nos da un estimador del numero de riders en base a una muestra"
      ],
      "metadata": {
        "id": "z0WPNHDNjpte"
      }
    }
  ]
}